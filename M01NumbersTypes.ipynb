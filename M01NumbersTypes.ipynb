{
 "cells": [
  {
   "cell_type": "code",
   "execution_count": 7,
   "id": "f9ae46b4-cb11-44bf-a3c6-132695d6c83a",
   "metadata": {},
   "outputs": [
    {
     "name": "stdout",
     "output_type": "stream",
     "text": [
      "3.1 The number of seconds in an hour is 3600\n",
      "3.2 The variable `seconds_per_hour` is assigned the value 3600\n",
      "3.3 The number of seconds in a day, calculated using `seconds_per_hour`, is 86400\n",
      "3.4 The variable `seconds_per_day` is assigned the value 86400\n",
      "3.5 Dividing `seconds_per_day` by `seconds_per_hour` using floating-point division yields 24.0\n",
      "3.6 Dividing `seconds_per_day` by `seconds_per_hour` using integer division yields 24\n"
     ]
    }
   ],
   "source": [
    "# 3.1 Calculation of seconds in an hour\n",
    "seconds_in_an_hour = 60 * 60\n",
    "print(\"3.1 The number of seconds in an hour is\",seconds_in_an_hour)\n",
    "\n",
    "# 3.2 Assigning the result to a variable\n",
    "seconds_per_hour = seconds_in_an_hour\n",
    "print(\"3.2 The variable `seconds_per_hour` is assigned the value\",seconds_per_hour)\n",
    "\n",
    "# 3.3 Calculation of seconds in a day using seconds_per_hour\n",
    "seconds_in_a_day = seconds_per_hour * 24\n",
    "print(\"3.3 The number of seconds in a day, calculated using `seconds_per_hour`, is\",seconds_in_a_day)\n",
    "\n",
    "# 3.4 Assigning the result to a variable\n",
    "seconds_per_day = seconds_in_a_day\n",
    "print(\"3.4 The variable `seconds_per_day` is assigned the value\",seconds_per_day)\n",
    "\n",
    "# 3.5 Floating-point division\n",
    "floating_point_division = seconds_per_day / seconds_per_hour\n",
    "print(\"3.5 Dividing `seconds_per_day` by `seconds_per_hour` using floating-point division yields\",floating_point_division)\n",
    "\n",
    "# 3.6 Integer division\n",
    "integer_division = seconds_per_day // seconds_per_hour\n",
    "print(\"3.6 Dividing `seconds_per_day` by `seconds_per_hour` using integer division yields\",integer_division)\n"
   ]
  }
 ],
 "metadata": {
  "kernelspec": {
   "display_name": "Python 3 (ipykernel)",
   "language": "python",
   "name": "python3"
  },
  "language_info": {
   "codemirror_mode": {
    "name": "ipython",
    "version": 3
   },
   "file_extension": ".py",
   "mimetype": "text/x-python",
   "name": "python",
   "nbconvert_exporter": "python",
   "pygments_lexer": "ipython3",
   "version": "3.11.7"
  }
 },
 "nbformat": 4,
 "nbformat_minor": 5
}
