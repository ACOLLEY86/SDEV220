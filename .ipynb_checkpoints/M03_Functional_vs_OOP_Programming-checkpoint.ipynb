{
 "cells": [
  {
   "cell_type": "code",
   "execution_count": null,
   "id": "a02403ff-19d3-4279-9001-e6ecc2a0d072",
   "metadata": {},
   "outputs": [],
   "source": [
    "class Solution:\n",
    "    def binarysearch(self, arr, N, K):\n",
    "        low = 0\n",
    "        high = N - 1\n",
    "\n",
    "        while low <= high:\n",
    "            mid = (low + high) // 2  # Calculate the middle index\n",
    "            if arr[mid] == K:\n",
    "                return mid  # Return the index if the element is found\n",
    "            elif arr[mid] < K:\n",
    "                low = mid + 1  # Adjust the lower bound\n",
    "            else:\n",
    "                high = mid - 1  # Adjust the upper bound\n",
    "\n",
    "        return -1  # Return -1 if the element is not found"
   ]
  },
  {
   "cell_type": "code",
   "execution_count": null,
   "id": "de6fafac-9404-4c3a-a150-3719c9f5bd02",
   "metadata": {},
   "outputs": [],
   "source": [
    "class Solution:\n",
    "    def sort012(self, arr, N):\n",
    "        low = 0\n",
    "        mid = 0\n",
    "        high = N - 1\n",
    "\n",
    "        while mid <= high:\n",
    "            if arr[mid] == 0:\n",
    "                arr[low], arr[mid] = arr[mid], arr[low]\n",
    "                low += 1\n",
    "                mid += 1\n",
    "            elif arr[mid] == 1:\n",
    "                mid += 1\n",
    "            else:  # arr[mid] == 2\n",
    "                arr[high], arr[mid] = arr[mid], arr[high]\n",
    "                high -= 1\n",
    "\n",
    "def printArray(arr):\n",
    "    for i in range(len(arr)):\n",
    "        print(arr[i], end=\" \")\n",
    "    print()"
   ]
  }
 ],
 "metadata": {
  "kernelspec": {
   "display_name": "Python 3 (ipykernel)",
   "language": "python",
   "name": "python3"
  },
  "language_info": {
   "codemirror_mode": {
    "name": "ipython",
    "version": 3
   },
   "file_extension": ".py",
   "mimetype": "text/x-python",
   "name": "python",
   "nbconvert_exporter": "python",
   "pygments_lexer": "ipython3",
   "version": "3.11.7"
  }
 },
 "nbformat": 4,
 "nbformat_minor": 5
}
