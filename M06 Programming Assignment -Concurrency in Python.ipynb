{
 "cells": [
  {
   "cell_type": "code",
   "execution_count": 97,
   "id": "58b63461-eaab-46b2-9100-bbfc9e32df52",
   "metadata": {},
   "outputs": [],
   "source": [
    "# 13.1\n",
    "\n",
    "from datetime import date\n",
    "\n",
    "current_date = datetime.now().strftime(\"%Y-%m-%d\")\n",
    "\n",
    "with open(\"today.txt\", \"w\") as file:\n",
    "    file.write(current_date)"
   ]
  },
  {
   "cell_type": "code",
   "execution_count": 98,
   "id": "874d2d2e-8bf6-4cc5-8763-1911b986c5a0",
   "metadata": {},
   "outputs": [
    {
     "name": "stdout",
     "output_type": "stream",
     "text": [
      "2024-07-14\n"
     ]
    }
   ],
   "source": [
    "# 13.2\n",
    "\n",
    "with open(\"today.txt\", \"r\") as file:\n",
    "    today_string = file.read()\n",
    "\n",
    "print(today_string)"
   ]
  },
  {
   "cell_type": "code",
   "execution_count": 99,
   "id": "5f25049c-1ff3-408e-8ea3-b5c0b189ef85",
   "metadata": {},
   "outputs": [
    {
     "name": "stdout",
     "output_type": "stream",
     "text": [
      "2024-07-14 00:00:00\n"
     ]
    }
   ],
   "source": [
    "# 13.3\n",
    "\n",
    "from datetime import date\n",
    "\n",
    "parsed_date = datetime.strptime(today_string, \"%Y-%m-%d\")\n",
    "\n",
    "print(parsed_date)"
   ]
  },
  {
   "cell_type": "code",
   "execution_count": null,
   "id": "1c4c98b5-b3e6-4783-a9a7-c29292b9f8a6",
   "metadata": {},
   "outputs": [],
   "source": [
    "# 15.1\n",
    "\n",
    "import multiprocessing\n",
    "import time\n",
    "import random\n",
    "from datetime import datetime\n",
    "\n",
    "def worker():\n",
    "    time.sleep(random.uniform(0, 1))\n",
    "    print(f\"Process ID: {multiprocessing.current_process().pid}, Current time: {datetime.now().strftime('%Y-%m-%d %H:%M:%S.%f')}\")\n",
    "\n",
    "if __name__ == \"__main__\":\n",
    "    processes = []\n",
    "\n",
    "    for _ in range(3):\n",
    "        process = multiprocessing.Process(target=worker)\n",
    "        processes.append(process)\n",
    "        process.start()\n",
    "\n",
    "    for process in processes:\n",
    "        process.join()"
   ]
  }
 ],
 "metadata": {
  "kernelspec": {
   "display_name": "Python 3 (ipykernel)",
   "language": "python",
   "name": "python3"
  },
  "language_info": {
   "codemirror_mode": {
    "name": "ipython",
    "version": 3
   },
   "file_extension": ".py",
   "mimetype": "text/x-python",
   "name": "python",
   "nbconvert_exporter": "python",
   "pygments_lexer": "ipython3",
   "version": "3.11.7"
  }
 },
 "nbformat": 4,
 "nbformat_minor": 5
}
