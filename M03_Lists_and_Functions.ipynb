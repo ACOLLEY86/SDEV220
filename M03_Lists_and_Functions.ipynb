{
 "cells": [
  {
   "cell_type": "code",
   "execution_count": 9,
   "id": "35a6e41c-d6d7-41b5-b004-6b4affc1755f",
   "metadata": {},
   "outputs": [],
   "source": [
    "things = [\"mozzarella\", \"cinderella\", \"salmonella\"]"
   ]
  },
  {
   "cell_type": "code",
   "execution_count": 11,
   "id": "da333e97-63b1-4901-bafd-16a5e304fb9d",
   "metadata": {},
   "outputs": [
    {
     "name": "stdout",
     "output_type": "stream",
     "text": [
      "['mozzarella', 'Cinderella', 'salmonella']\n"
     ]
    }
   ],
   "source": [
    "things[1] = things[1].capitalize()\n",
    "print(things)"
   ]
  },
  {
   "cell_type": "code",
   "execution_count": 13,
   "id": "35ef9b8c-0688-4d72-b3a5-70838c49ce43",
   "metadata": {},
   "outputs": [],
   "source": [
    "# Capitalized the name Cinderella"
   ]
  },
  {
   "cell_type": "code",
   "execution_count": 15,
   "id": "f0e067dc-d53a-4d80-8373-e4d0bfc6f651",
   "metadata": {},
   "outputs": [
    {
     "name": "stdout",
     "output_type": "stream",
     "text": [
      "['MOZZARELLA', 'Cinderella', 'salmonella']\n"
     ]
    }
   ],
   "source": [
    "things[0] = things[0].upper()\n",
    "print(things)"
   ]
  },
  {
   "cell_type": "code",
   "execution_count": 17,
   "id": "74609509-e6e4-4ee7-a403-f172f6e67a2a",
   "metadata": {},
   "outputs": [
    {
     "name": "stdout",
     "output_type": "stream",
     "text": [
      "['MOZZARELLA', 'Cinderella']\n",
      "Collected my Nobel Prize for eradicating salmonella!\n"
     ]
    }
   ],
   "source": [
    "things.remove(\"salmonella\")\n",
    "print(things)\n",
    "print(\"Collected my Nobel Prize for eradicating salmonella!\")"
   ]
  },
  {
   "cell_type": "code",
   "execution_count": null,
   "id": "ec016ab4-c538-4125-a754-44130f20db43",
   "metadata": {},
   "outputs": [],
   "source": []
  },
  {
   "cell_type": "code",
   "execution_count": 19,
   "id": "a6a8c6d0-fded-4774-b85c-e1aa03fcd039",
   "metadata": {},
   "outputs": [],
   "source": [
    "def good():\n",
    "    return ['Harry', 'Ron', 'Hermione']"
   ]
  },
  {
   "cell_type": "code",
   "execution_count": 21,
   "id": "9a01704b-13a1-4c73-90e7-1fdf01ef6686",
   "metadata": {},
   "outputs": [
    {
     "name": "stdout",
     "output_type": "stream",
     "text": [
      "['Harry', 'Ron', 'Hermione']\n"
     ]
    }
   ],
   "source": [
    "print(good())"
   ]
  },
  {
   "cell_type": "code",
   "execution_count": 23,
   "id": "a42976df-10d9-473d-9cc1-d07b50b8cc66",
   "metadata": {},
   "outputs": [
    {
     "name": "stdout",
     "output_type": "stream",
     "text": [
      "5\n"
     ]
    }
   ],
   "source": [
    "def get_odds():\n",
    "    for num in range(10):\n",
    "        if num % 2 != 0:\n",
    "            yield num\n",
    "\n",
    "def find_third_odd():\n",
    "    count = 0\n",
    "    for odd_number in get_odds():\n",
    "        count += 1\n",
    "        if count == 3:\n",
    "            return odd_number\n",
    "\n",
    "third_odd = find_third_odd()\n",
    "print(third_odd)"
   ]
  },
  {
   "cell_type": "code",
   "execution_count": null,
   "id": "c7d6ab9b-f2ae-48ab-ac19-7bbbd654c51f",
   "metadata": {},
   "outputs": [],
   "source": []
  }
 ],
 "metadata": {
  "kernelspec": {
   "display_name": "Python 3 (ipykernel)",
   "language": "python",
   "name": "python3"
  },
  "language_info": {
   "codemirror_mode": {
    "name": "ipython",
    "version": 3
   },
   "file_extension": ".py",
   "mimetype": "text/x-python",
   "name": "python",
   "nbconvert_exporter": "python",
   "pygments_lexer": "ipython3",
   "version": "3.11.7"
  }
 },
 "nbformat": 4,
 "nbformat_minor": 5
}
