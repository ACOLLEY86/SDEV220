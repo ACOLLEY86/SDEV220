{
 "cells": [
  {
   "cell_type": "code",
   "execution_count": null,
   "id": "bf472dcf-8106-4ad2-aa10-9dc3ef4b3508",
   "metadata": {},
   "outputs": [],
   "source": [
    "# 4.1 Guessing Game\n",
    "\n",
    "# Assign a number between 1 and 10 to secret\n",
    "secret = 7\n",
    "\n",
    "# Prompt the user to enter a guess\n",
    "guess = int(input(\"Enter your guess (a number between 1 and 10): \"))\n",
    "\n",
    "# Conditional tests to compare guess with secret\n",
    "if guess < secret:\n",
    "    print(\"too low\")\n",
    "elif guess > secret:\n",
    "    print(\"too high\")\n",
    "else:\n",
    "    print(\"just right\")"
   ]
  },
  {
   "cell_type": "code",
   "execution_count": null,
   "id": "7c636818-3d13-4a18-9807-e0607ca5837d",
   "metadata": {},
   "outputs": [],
   "source": [
    "# 4.2 Object Matching\n",
    "\n",
    "# Prompt the user to enter if the object is small (T or F)\n",
    "small_input = input(\"Is the object small? (T/F): \")\n",
    "small = small_input.upper() == 'T'\n",
    "\n",
    "# Prompt the user to enter if the object is green (T or F)\n",
    "green_input = input(\"Is the object green? (T/F): \")\n",
    "green = green_input.upper() == 'T'\n",
    "\n",
    "# Conditional tests to print which object matches the choices\n",
    "if small and green:\n",
    "    print(\"pea\")\n",
    "elif small and not green:\n",
    "    print(\"cherry\")\n",
    "elif not small and green:\n",
    "    print(\"watermelon\")\n",
    "else:\n",
    "    print(\"pumpkin\")"
   ]
  },
  {
   "cell_type": "code",
   "execution_count": null,
   "id": "a9cf532c-6b1b-4934-8e31-a34c4ffe6de1",
   "metadata": {},
   "outputs": [],
   "source": [
    "# 6.1 Print values of the list [3, 2, 1, 0] using a for loop\n",
    "\n",
    "values = [3, 2, 1, 0]\n",
    "\n",
    "for value in values:\n",
    "    print(value)"
   ]
  },
  {
   "cell_type": "code",
   "execution_count": null,
   "id": "75cbdddb-98b7-43c2-8d67-d4e69aff005d",
   "metadata": {},
   "outputs": [],
   "source": [
    "# 6.2 While loop to compare number with guess_me\n",
    "\n",
    "guess_me = 7\n",
    "number = 1\n",
    "\n",
    "while True:\n",
    "    if number < guess_me:\n",
    "        print(\"too low\")\n",
    "    elif number == guess_me:\n",
    "        print(\"found it!\")\n",
    "        break\n",
    "    else:\n",
    "        print(\"oops\")\n",
    "        break\n",
    "    number += 1"
   ]
  },
  {
   "cell_type": "code",
   "execution_count": null,
   "id": "866b6a2b-9336-4ef9-a329-42c824ff502a",
   "metadata": {},
   "outputs": [],
   "source": [
    "# 6.3 For loop to iterate a variable called number over range(10) without using break\n",
    "\n",
    "guess_me = 5\n",
    "\n",
    "for number in range(10):\n",
    "    if number < guess_me:\n",
    "        print(\"too low\")\n",
    "    elif number == guess_me:\n",
    "        print(\"found it!\")\n",
    "        number = 10  # Ensure the loop will not print \"oops\" after finding the correct number\n",
    "    elif number > guess_me:\n",
    "        print(\"oops\")\n",
    "        # Set number to 10 to ensure the loop stops executing\n",
    "        number = 10"
   ]
  }
 ],
 "metadata": {
  "kernelspec": {
   "display_name": "Python 3 (ipykernel)",
   "language": "python",
   "name": "python3"
  },
  "language_info": {
   "codemirror_mode": {
    "name": "ipython",
    "version": 3
   },
   "file_extension": ".py",
   "mimetype": "text/x-python",
   "name": "python",
   "nbconvert_exporter": "python",
   "pygments_lexer": "ipython3",
   "version": "3.11.7"
  }
 },
 "nbformat": 4,
 "nbformat_minor": 5
}
