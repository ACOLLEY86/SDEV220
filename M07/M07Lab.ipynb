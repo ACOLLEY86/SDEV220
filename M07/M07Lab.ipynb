{
 "cells": [
  {
   "cell_type": "code",
   "execution_count": null,
   "id": "d4390c05-0a7e-4bbf-b87a-3169659238ff",
   "metadata": {},
   "outputs": [],
   "source": [
    "import pandas as pd"
   ]
  },
  {
   "cell_type": "code",
   "execution_count": null,
   "id": "56f043d7-1668-4ed2-911b-d6fbd82e1868",
   "metadata": {},
   "outputs": [],
   "source": [
    "df = pd.read_csv('telco_churn.csv')\n",
    "df.head()"
   ]
  },
  {
   "cell_type": "code",
   "execution_count": null,
   "id": "d4c211b8-4581-4a37-908b-2128f81f21af",
   "metadata": {},
   "outputs": [],
   "source": [
    "df.head(10)"
   ]
  },
  {
   "cell_type": "code",
   "execution_count": null,
   "id": "c1bff30b-45f3-4211-ab5e-2ad604cd7c46",
   "metadata": {},
   "outputs": [],
   "source": [
    "data_dict = {\n",
    "    'State': ['Ohio', 'Nevada', 'California'],\n",
    "    'Account Length': [1, 2, 3],\n",
    "    'Total Day Minutes': [45.2, 80.5, 12.7]\n",
    "}\n",
    "df_dict = pd.DataFrame.from_dict(data_dict)\n",
    "df_dict.head()"
   ]
  },
  {
   "cell_type": "code",
   "execution_count": null,
   "id": "5c2cde7c-defa-4d04-a43a-c13234a7cbd6",
   "metadata": {},
   "outputs": [],
   "source": [
    "df.columns, df.dtypes"
   ]
  },
  {
   "cell_type": "code",
   "execution_count": null,
   "id": "6ca115e9-16c8-43d0-8223-ce94f9a995b5",
   "metadata": {},
   "outputs": [],
   "source": [
    "df.describe()"
   ]
  },
  {
   "cell_type": "code",
   "execution_count": null,
   "id": "17d18160-ed53-4d6e-86ab-b8b519bee1f1",
   "metadata": {},
   "outputs": [],
   "source": [
    "df.describe(include='object')"
   ]
  },
  {
   "cell_type": "code",
   "execution_count": null,
   "id": "acd2aa8e-2fa8-40ef-b4dd-fd1b1b541ef5",
   "metadata": {},
   "outputs": [],
   "source": [
    "df['State'].unique(), df['Churn'].unique()"
   ]
  },
  {
   "cell_type": "code",
   "execution_count": null,
   "id": "94a6771e-78b1-4bdd-bbfd-d85e43274bdd",
   "metadata": {},
   "outputs": [],
   "source": [
    "filtered_df = df[df['International Plan'] == 'No']\n",
    "filtered_df.head()"
   ]
  },
  {
   "cell_type": "code",
   "execution_count": null,
   "id": "3ce28799-7df8-4ed4-8b00-880fc7515b5b",
   "metadata": {},
   "outputs": [],
   "source": [
    "filtered_df_multi = df[(df['International Plan'] == 'No') & (df['Churn'] == 'True')]\n",
    "filtered_df_multi.head()"
   ]
  },
  {
   "cell_type": "code",
   "execution_count": null,
   "id": "639ea6a9-ef8e-48da-b18d-81f11fcff9ac",
   "metadata": {},
   "outputs": [],
   "source": [
    "df.iloc[14], df.iloc[14, 0], df.iloc[22:33]"
   ]
  },
  {
   "cell_type": "code",
   "execution_count": null,
   "id": "0f9bcb3b-8f4e-4689-9124-a574f763fc0d",
   "metadata": {},
   "outputs": [],
   "source": [
    "df.set_index('State', inplace=True)\n",
    "df.loc['Ohio']"
   ]
  },
  {
   "cell_type": "code",
   "execution_count": null,
   "id": "966b93dd-7ab2-4270-8591-3fe2199a1ebc",
   "metadata": {},
   "outputs": [],
   "source": [
    "df.dropna(inplace=True)\n",
    "df.isnull().sum()"
   ]
  },
  {
   "cell_type": "code",
   "execution_count": null,
   "id": "259f9b8b-4796-4441-98b9-720322849a59",
   "metadata": {},
   "outputs": [],
   "source": [
    "df.drop(columns='Area Code', inplace=True)\n",
    "df.head()"
   ]
  },
  {
   "cell_type": "code",
   "execution_count": null,
   "id": "64c70206-396b-4092-977d-75e638789400",
   "metadata": {},
   "outputs": [],
   "source": [
    "df['New Column'] = df['Total Night Minutes'] + df['Total Intl Minutes']\n",
    "df.head()"
   ]
  },
  {
   "cell_type": "code",
   "execution_count": null,
   "id": "abb62ddf-b63e-4371-815e-fc0a3e2c3f84",
   "metadata": {},
   "outputs": [],
   "source": [
    "df['New Column'] = 100\n",
    "df.head()"
   ]
  },
  {
   "cell_type": "code",
   "execution_count": null,
   "id": "533e6feb-ce58-4ffa-9543-5f1aae9780bb",
   "metadata": {},
   "outputs": [],
   "source": [
    "df.iloc[0, -1] = 10\n",
    "df.head()"
   ]
  },
  {
   "cell_type": "code",
   "execution_count": null,
   "id": "cdb89830-c987-454c-89b0-d99aeb382a2c",
   "metadata": {},
   "outputs": [],
   "source": [
    "df['Churn Binary'] = df['Churn'].apply(lambda x: 1 if x == 'True' else 0)\n",
    "df.head()"
   ]
  },
  {
   "cell_type": "code",
   "execution_count": null,
   "id": "ca4cabe0-4658-46d0-b452-c68186b1105c",
   "metadata": {},
   "outputs": [],
   "source": [
    "df.to_csv('output.csv')\n",
    "df.to_json('output.json')\n",
    "df.to_html('output.html')"
   ]
  },
  {
   "cell_type": "code",
   "execution_count": null,
   "id": "19f5f0bc-61b3-435c-ac59-ed097fa17fca",
   "metadata": {},
   "outputs": [],
   "source": [
    "del df"
   ]
  }
 ],
 "metadata": {
  "kernelspec": {
   "display_name": "Python 3 (ipykernel)",
   "language": "python",
   "name": "python3"
  },
  "language_info": {
   "codemirror_mode": {
    "name": "ipython",
    "version": 3
   },
   "file_extension": ".py",
   "mimetype": "text/x-python",
   "name": "python",
   "nbconvert_exporter": "python",
   "pygments_lexer": "ipython3",
   "version": "3.11.7"
  }
 },
 "nbformat": 4,
 "nbformat_minor": 5
}
